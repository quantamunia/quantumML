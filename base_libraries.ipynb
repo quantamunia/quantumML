{
 "cells": [
  {
   "cell_type": "markdown",
   "id": "17cf9502",
   "metadata": {},
   "source": [
    "# COMP47250 Team Software Project : University College Dublin\n",
    "## Exploring Quantum Machine Learning June - August 2023\n",
    "Aldridge Abaasa, Neha Mutha, Rahul Matai, Tinoda Garapasi"
   ]
  },
  {
   "cell_type": "code",
   "execution_count": null,
   "id": "b6dd64fd",
   "metadata": {},
   "outputs": [],
   "source": [
    "pip install qiskit"
   ]
  },
  {
   "cell_type": "code",
   "execution_count": null,
   "id": "f867ead8",
   "metadata": {},
   "outputs": [],
   "source": [
    "pip install pylatexenc"
   ]
  },
  {
   "cell_type": "code",
   "execution_count": null,
   "id": "e8201585",
   "metadata": {},
   "outputs": [],
   "source": [
    "pip install azure-quantum"
   ]
  },
  {
   "cell_type": "code",
   "execution_count": null,
   "id": "52d257e1",
   "metadata": {},
   "outputs": [],
   "source": [
    "pip install azure-quantum[qiskit]"
   ]
  },
  {
   "cell_type": "code",
   "execution_count": null,
   "id": "9dd3c4fc",
   "metadata": {},
   "outputs": [],
   "source": [
    "#general libraries\n",
    "import time\n",
    "import numpy as np\n",
    "import pandas as pd\n",
    "\n",
    "#scikit libraries\n",
    "from sklearn import datasets\n",
    "from sklearn.model_selection import train_test_split\n",
    "from sklearn.preprocessing import StandardScaler\n",
    "from sklearn.preprocessing import MinMaxScaler\n",
    "from sklearn.decomposition import PCA\n",
    "from sklearn.metrics import confusion_matrix\n",
    "from sklearn.metrics import accuracy_score\n",
    "\n",
    "#qiskit libraries\n",
    "from qiskit import Aer\n",
    "from qiskit.primitives import Sampler\n",
    "from qiskit import execute\n",
    "from qiskit import transpile\n",
    "\n",
    "#qiskit circuit libraries\n",
    "from qiskit.circuit.library import ZZFeatureMap,ZFeatureMap,PauliFeatureMap\n",
    "from qiskit.circuit.library import RealAmplitudes\n",
    "\n",
    "#qiskit optimizer libraries\n",
    "from qiskit.algorithms.optimizers import SPSA,COBYLA\n",
    "\n",
    "#qiskit algorithms\n",
    "from qiskit_machine_learning.algorithms import VQC,QSVC\n",
    "from qiskit_machine_learning.kernels import QuantumKernel\n",
    "from qiskit_machine_learning.neural_networks import EstimatorQNN\n",
    "from qiskit_machine_learning.algorithms import NeuralNetworkClassifier\n",
    "from qiskit_machine_learning.exceptions import QiskitMachineLearningError\n",
    "from qiskit.utils import algorithm_globals\n",
    "\n",
    "#qiskit azure libraries\n",
    "from azure.quantum import Workspace\n",
    "from azure.quantum.qiskit import AzureQuantumProvider"
   ]
  }
 ],
 "metadata": {
  "kernelspec": {
   "display_name": "Python 3 (ipykernel)",
   "language": "python",
   "name": "python3"
  },
  "language_info": {
   "codemirror_mode": {
    "name": "ipython",
    "version": 3
   },
   "file_extension": ".py",
   "mimetype": "text/x-python",
   "name": "python",
   "nbconvert_exporter": "python",
   "pygments_lexer": "ipython3",
   "version": "3.10.9"
  }
 },
 "nbformat": 4,
 "nbformat_minor": 5
}
