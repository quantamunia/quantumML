{
 "cells": [
  {
   "cell_type": "code",
   "execution_count": null,
   "id": "a1560831",
   "metadata": {},
   "outputs": [],
   "source": [
    "#pip install pennylane\n"
   ]
  },
  {
   "cell_type": "code",
   "execution_count": null,
   "id": "25a40626",
   "metadata": {},
   "outputs": [],
   "source": [
    "#pip install pennylane-qiskit"
   ]
  },
  {
   "cell_type": "code",
   "execution_count": null,
   "id": "a8b5a2fc",
   "metadata": {},
   "outputs": [],
   "source": [
    "#pip install --upgrade pennylane numpy scikit-learn"
   ]
  },
  {
   "cell_type": "code",
   "execution_count": 8,
   "id": "12a6a816",
   "metadata": {},
   "outputs": [
    {
     "name": "stderr",
     "output_type": "stream",
     "text": [
      "C:\\Users\\Laverne\\anaconda3\\lib\\site-packages\\pennylane\\_grad.py:112: UserWarning: Attempted to differentiate a function with no trainable parameters. If this is unintended, please add trainable parameters via the 'requires_grad' attribute or 'argnum' keyword.\n",
      "  warnings.warn(\n"
     ]
    },
    {
     "name": "stdout",
     "output_type": "stream",
     "text": [
      "SVM Accuracy: 1.0\n",
      "SVM Precision: 1.0\n",
      "SVM Recall: 1.0\n",
      "SVM F1 Score: 1.0\n",
      "QSVM Accuracy: 0.3\n",
      "QSVM Precision: 0.30952380952380953\n",
      "QSVM Recall: 0.2159090909090909\n",
      "QSVM F1 Score: 0.21397849462365592\n"
     ]
    },
    {
     "name": "stderr",
     "output_type": "stream",
     "text": [
      "C:\\Users\\Laverne\\anaconda3\\lib\\site-packages\\sklearn\\metrics\\_classification.py:1469: UndefinedMetricWarning: Precision is ill-defined and being set to 0.0 in labels with no predicted samples. Use `zero_division` parameter to control this behavior.\n",
      "  _warn_prf(average, modifier, msg_start, len(result))\n",
      "C:\\Users\\Laverne\\anaconda3\\lib\\site-packages\\sklearn\\metrics\\_classification.py:1469: UndefinedMetricWarning: Recall is ill-defined and being set to 0.0 in labels with no true samples. Use `zero_division` parameter to control this behavior.\n",
      "  _warn_prf(average, modifier, msg_start, len(result))\n"
     ]
    }
   ],
   "source": [
    "import numpy as np\n",
    "from sklearn import datasets\n",
    "from sklearn.model_selection import train_test_split\n",
    "from sklearn.svm import SVC\n",
    "from sklearn.metrics import accuracy_score, precision_score, recall_score, f1_score\n",
    "import pennylane as qml\n",
    "#qiskit libraries\n",
    "from qiskit import Aer\n",
    "from qiskit.primitives import Sampler\n",
    "from qiskit import execute\n",
    "from qiskit import transpile\n",
    "from azure.quantum import Workspace\n",
    "from azure.quantum.qiskit import AzureQuantumProvider\n",
    "\n",
    "# Load the Iris dataset\n",
    "iris = datasets.load_iris()\n",
    "X = iris.data\n",
    "y = iris.target\n",
    "\n",
    "# Split the data into training and testing sets\n",
    "X_train, X_test, y_train, y_test = train_test_split(X, y, test_size=0.2, random_state=42)\n",
    "\n",
    "# SVM\n",
    "svm = SVC(kernel='linear')\n",
    "svm.fit(X_train, y_train)\n",
    "svm_pred = svm.predict(X_test)\n",
    "\n",
    "# QSVM\n",
    "n_qubits = 4  # Number of qubits matches the number of features\n",
    "dev = qml.device(\"qiskit.aer\", wires=n_qubits)\n",
    "\n",
    "@qml.qnode(dev)\n",
    "def qsvm_circuit(x, weights):\n",
    "    qml.templates.AngleEmbedding(x, wires=range(n_qubits))\n",
    "    qml.Rot(*weights[0], wires=0)\n",
    "    qml.Rot(*weights[1], wires=1)\n",
    "    qml.Rot(*weights[2], wires=2)\n",
    "    qml.Rot(*weights[3], wires=3)\n",
    "    return [qml.expval(qml.PauliZ(0)), qml.expval(qml.PauliZ(1)), qml.expval(qml.PauliZ(2)), qml.expval(qml.PauliZ(3))]\n",
    "\n",
    "def qsvm_cost(weights):\n",
    "    predictions = np.asarray([qsvm_circuit(x, weights) for x in X_train])\n",
    "    dot_product = np.dot(predictions.T, y_train) / len(X_train)\n",
    "    return np.sum(np.sin(1 - dot_product))\n",
    "\n",
    "# Randomly initialize weights\n",
    "weights = np.random.uniform(size=(4, 3))\n",
    "\n",
    "opt = qml.GradientDescentOptimizer(stepsize=0.1)\n",
    "\n",
    "for it in range(3):\n",
    "    weights = opt.step(qsvm_cost, weights)\n",
    "\n",
    "# Test the models on the same testing set\n",
    "qsvm_pred = np.argmax([qsvm_circuit(x, weights) for x in X_test], axis=1)\n",
    "\n",
    "# Calculate evaluation metrics for both models\n",
    "svm_accuracy = accuracy_score(y_test, svm_pred)\n",
    "svm_precision = precision_score(y_test, svm_pred, average='macro')\n",
    "svm_recall = recall_score(y_test, svm_pred, average='macro')\n",
    "svm_f1 = f1_score(y_test, svm_pred, average='macro')\n",
    "\n",
    "qsvm_accuracy = accuracy_score(y_test, qsvm_pred)\n",
    "qsvm_precision = precision_score(y_test, qsvm_pred, average='macro')\n",
    "qsvm_recall = recall_score(y_test, qsvm_pred, average='macro')\n",
    "qsvm_f1 = f1_score(y_test, qsvm_pred, average='macro')\n",
    "\n",
    "# Print the metrics for both models\n",
    "print(\"SVM Accuracy:\", svm_accuracy)\n",
    "print(\"SVM Precision:\", svm_precision)\n",
    "print(\"SVM Recall:\", svm_recall)\n",
    "print(\"SVM F1 Score:\", svm_f1)\n",
    "\n",
    "print(\"QSVM Accuracy:\", qsvm_accuracy)\n",
    "print(\"QSVM Precision:\", qsvm_precision)\n",
    "print(\"QSVM Recall:\", qsvm_recall)\n",
    "print(\"QSVM F1 Score:\", qsvm_f1)\n",
    "\n",
    "dev._circuit.draw(output=\"mpl\")\n",
    "\n",
    "provider = AzureQuantumProvider (\n",
    "    resource_id = \"/subscriptions/e7eef170-5f0d-42c3-a6c6-9ae33096de85/resourceGroups/AzureQuantum/providers/Microsoft.Quantum/Workspaces/Quantamunia\",\n",
    "    location = \"West Europe\")\n",
    "\n",
    "\n"
   ]
  },
  {
   "cell_type": "code",
   "execution_count": null,
   "id": "7a656126",
   "metadata": {},
   "outputs": [],
   "source": []
  },
  {
   "cell_type": "code",
   "execution_count": null,
   "id": "1b121357",
   "metadata": {},
   "outputs": [],
   "source": []
  }
 ],
 "metadata": {
  "kernelspec": {
   "display_name": "Python 3 (ipykernel)",
   "language": "python",
   "name": "python3"
  },
  "language_info": {
   "codemirror_mode": {
    "name": "ipython",
    "version": 3
   },
   "file_extension": ".py",
   "mimetype": "text/x-python",
   "name": "python",
   "nbconvert_exporter": "python",
   "pygments_lexer": "ipython3",
   "version": "3.10.9"
  }
 },
 "nbformat": 4,
 "nbformat_minor": 5
}
