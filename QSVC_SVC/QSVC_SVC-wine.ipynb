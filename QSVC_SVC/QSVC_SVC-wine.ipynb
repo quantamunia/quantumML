{
 "cells": [
  {
   "cell_type": "code",
   "execution_count": 1,
   "id": "0b1a99c7",
   "metadata": {},
   "outputs": [],
   "source": [
    "from sklearn.datasets import load_iris\n",
    "from sklearn.datasets import load_wine\n",
    "from sklearn.preprocessing import MinMaxScaler\n",
    "from sklearn.model_selection import train_test_split\n",
    "from sklearn.svm import SVC\n",
    "from sklearn.decomposition import PCA\n",
    "from sklearn import decomposition\n",
    "from sklearn.metrics import accuracy_score, precision_score, recall_score, f1_score\n",
    "from qiskit.circuit.library import ZZFeatureMap, PauliFeatureMap\n",
    "from qiskit import Aer\n",
    "from qiskit.algorithms.state_fidelities import ComputeUncompute\n",
    "from qiskit_machine_learning.kernels import FidelityQuantumKernel\n",
    "from matplotlib import pyplot as plt\n",
    "from IPython.display import clear_output\n",
    "from qiskit.primitives import Sampler\n",
    "import time\n",
    "from qiskit_machine_learning.algorithms.classifiers import QSVC\n",
    "import numpy as np\n"
   ]
  },
  {
   "cell_type": "code",
   "execution_count": 2,
   "id": "2871fc42",
   "metadata": {},
   "outputs": [],
   "source": [
    "wine_data = load_wine()\n",
    "\n",
    "X = wine_data.data\n",
    "y = wine_data.target\n",
    "\n",
    "X = X[0:100]\n",
    "y = y[0:100]\n",
    "\n",
    "X = MinMaxScaler().fit_transform(X)"
   ]
  },
  {
   "cell_type": "code",
   "execution_count": 3,
   "id": "d1805b78",
   "metadata": {},
   "outputs": [
    {
     "data": {
      "text/plain": [
       "(100, 13)"
      ]
     },
     "execution_count": 3,
     "metadata": {},
     "output_type": "execute_result"
    }
   ],
   "source": [
    "X.shape"
   ]
  },
  {
   "cell_type": "code",
   "execution_count": 4,
   "id": "506b625b",
   "metadata": {},
   "outputs": [],
   "source": [
    "X_train, X_test, y_train, y_test = train_test_split(X, y, train_size=0.8, random_state=123)"
   ]
  },
  {
   "cell_type": "code",
   "execution_count": 5,
   "id": "6976a732",
   "metadata": {},
   "outputs": [],
   "source": [
    "svc = SVC()\n",
    "svc.fit(X_train, y_train) \n",
    "svc_pred = svc.predict(X_test)"
   ]
  },
  {
   "cell_type": "code",
   "execution_count": 6,
   "id": "41faf557",
   "metadata": {},
   "outputs": [
    {
     "name": "stdout",
     "output_type": "stream",
     "text": [
      "SVC on the training dataset: 1.00\n",
      "SVC on the test dataset:     1.00\n"
     ]
    }
   ],
   "source": [
    "svc_train_score = svc.score(X_train, y_train)\n",
    "svc_test_score = svc.score(X_test, y_test)\n",
    "\n",
    "print(f\"SVC on the training dataset: {svc_train_score:.2f}\")\n",
    "print(f\"SVC on the test dataset:     {svc_test_score:.2f}\")"
   ]
  },
  {
   "cell_type": "code",
   "execution_count": 7,
   "id": "a8105bd5",
   "metadata": {},
   "outputs": [],
   "source": [
    "svc_accuracy = accuracy_score(y_test, svc_pred)\n",
    "svc_precision = precision_score(y_test, svc_pred, average='macro')\n",
    "svc_recall = recall_score(y_test, svc_pred, average='macro')\n",
    "svc_f1 = f1_score(y_test, svc_pred, average='macro')"
   ]
  },
  {
   "cell_type": "code",
   "execution_count": 8,
   "id": "80351585",
   "metadata": {},
   "outputs": [
    {
     "name": "stdout",
     "output_type": "stream",
     "text": [
      "SVC Accuracy: 1.00\n",
      "SVC Precision: 1.00\n",
      "SVC Recall: 1.00\n",
      "SVC F1 Score: 1.00\n"
     ]
    }
   ],
   "source": [
    "# Print the metrics for both models\n",
    "print(f\"SVC Accuracy: {svc_accuracy:.2f}\")\n",
    "print(f\"SVC Precision: {svc_precision:.2f}\")\n",
    "print(f\"SVC Recall: {svc_recall:.2f}\")\n",
    "print(f\"SVC F1 Score: {svc_f1:.2f}\")"
   ]
  },
  {
   "cell_type": "markdown",
   "id": "449f581d",
   "metadata": {},
   "source": [
    "### QSVC"
   ]
  },
  {
   "cell_type": "code",
   "execution_count": 9,
   "id": "4b013dc9",
   "metadata": {},
   "outputs": [
    {
     "data": {
      "image/png": "[encoded data removed]",
      "text/plain": [
       "<Figure size 507.852x144.48 with 1 Axes>"
      ]
     },
     "execution_count": 9,
     "metadata": {},
     "output_type": "execute_result"
    }
   ],
   "source": [
    "num_features = 2\n",
    "# feature_map = PauliFeatureMap(feature_dimension=num_features, \n",
    "#                               paulis = ['ZI','IZ','ZZ'],\n",
    "#                               reps=1, \n",
    "#                               entanglement='full'\n",
    "#                               )\n",
    "feature_map = ZZFeatureMap(feature_dimension=num_features, reps=1)\n",
    "feature_map.decompose().draw(output=\"mpl\", fold=20)"
   ]
  },
  {
   "cell_type": "code",
   "execution_count": 10,
   "id": "4a170a03",
   "metadata": {},
   "outputs": [],
   "source": [
    "sampler = Sampler()\n",
    "fidelity = ComputeUncompute(sampler=sampler)\n",
    "kernel = FidelityQuantumKernel(fidelity=fidelity, feature_map=feature_map)"
   ]
  },
  {
   "cell_type": "code",
   "execution_count": 11,
   "id": "927a62da",
   "metadata": {},
   "outputs": [],
   "source": [
    "qsvc = QSVC(quantum_kernel=kernel)"
   ]
  },
  {
   "cell_type": "code",
   "execution_count": 12,
   "id": "87925dbc",
   "metadata": {},
   "outputs": [
    {
     "name": "stdout",
     "output_type": "stream",
     "text": [
      "Training time: 14251 seconds\n"
     ]
    }
   ],
   "source": [
    "start = time.time()\n",
    "qsvc.fit(X_train, y_train)\n",
    "elapsed = time.time() - start\n",
    "\n",
    "print(f\"Training time: {round(elapsed)} seconds\")"
   ]
  },
  {
   "cell_type": "code",
   "execution_count": 13,
   "id": "2899cf35",
   "metadata": {},
   "outputs": [
    {
     "name": "stdout",
     "output_type": "stream",
     "text": [
      "Quantum SVC on the training dataset: 1.00\n",
      "Quantum SVC on the test dataset:     0.90\n"
     ]
    }
   ],
   "source": [
    "qsvc_train_score = qsvc.score(X_train, y_train)\n",
    "qsvc_test_score = qsvc.score(X_test, y_test)\n",
    "\n",
    "print(f\"Quantum SVC on the training dataset: {qsvc_train_score:.2f}\")\n",
    "print(f\"Quantum SVC on the test dataset:     {qsvc_test_score:.2f}\")"
   ]
  },
  {
   "cell_type": "code",
   "execution_count": 14,
   "id": "7f7df859",
   "metadata": {},
   "outputs": [],
   "source": [
    "qsvc_pred = qsvc.predict(X_test)"
   ]
  },
  {
   "cell_type": "code",
   "execution_count": 15,
   "id": "ab780c98",
   "metadata": {},
   "outputs": [],
   "source": [
    "qsvc_accuracy = accuracy_score(y_test, qsvc_pred)\n",
    "qsvc_precision = precision_score(y_test, qsvc_pred, average='macro')\n",
    "qsvc_recall = recall_score(y_test, qsvc_pred, average='macro')\n",
    "qsvc_f1 = f1_score(y_test, qsvc_pred, average='macro')"
   ]
  },
  {
   "cell_type": "code",
   "execution_count": 16,
   "id": "69542a87",
   "metadata": {},
   "outputs": [
    {
     "name": "stdout",
     "output_type": "stream",
     "text": [
      "QSVC Accuracy: 0.90\n",
      "QSVC Precision: 0.92\n",
      "QSVC Recall: 0.89\n",
      "QSVC F1 Score: 0.90\n"
     ]
    }
   ],
   "source": [
    "# Print the metrics for both models\n",
    "print(f\"QSVC Accuracy: {qsvc_accuracy:.2f}\")\n",
    "print(f\"QSVC Precision: {qsvc_precision:.2f}\")\n",
    "print(f\"QSVC Recall: {qsvc_recall:.2f}\")\n",
    "print(f\"QSVC F1 Score: {qsvc_f1:.2f}\")"
   ]
  },
  {
   "cell_type": "code",
   "execution_count": 17,
   "id": "2d94b832",
   "metadata": {},
   "outputs": [
    {
     "data": {
      "image/png": "[encoded data removed]",
      "text/plain": [
       "<Figure size 720x360 with 2 Axes>"
      ]
     },
     "metadata": {
      "needs_background": "light"
     },
     "output_type": "display_data"
    }
   ],
   "source": [
    "matrix_train = kernel.evaluate(x_vec=X_train)\n",
    "matrix_test = kernel.evaluate(x_vec=X_test, y_vec=X_train)\n",
    "\n",
    "fig, axs = plt.subplots(1, 2, figsize=(10, 5))\n",
    "axs[0].imshow(\n",
    "    np.asmatrix(matrix_train), interpolation=\"nearest\", origin=\"upper\", cmap=\"Blues\"\n",
    ")\n",
    "axs[0].set_title(\"Training kernel matrix\")\n",
    "axs[1].imshow(np.asmatrix(matrix_test), interpolation=\"nearest\", origin=\"upper\", cmap=\"Reds\")\n",
    "axs[1].set_title(\"Testing kernel matrix\")\n",
    "plt.show()"
   ]
  },
  {
   "cell_type": "code",
   "execution_count": null,
   "id": "efa0993d",
   "metadata": {},
   "outputs": [],
   "source": []
  }
 ],
 "metadata": {
  "kernelspec": {
   "display_name": "Python 3 (ipykernel)",
   "language": "python",
   "name": "python3"
  },
  "language_info": {
   "codemirror_mode": {
    "name": "ipython",
    "version": 3
   },
   "file_extension": ".py",
   "mimetype": "text/x-python",
   "name": "python",
   "nbconvert_exporter": "python",
   "pygments_lexer": "ipython3",
   "version": "3.9.12"
  }
 },
 "nbformat": 4,
 "nbformat_minor": 5
}
