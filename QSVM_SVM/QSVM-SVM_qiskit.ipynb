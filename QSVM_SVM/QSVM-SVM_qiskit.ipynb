{
 "cells": [
  {
   "cell_type": "code",
   "execution_count": 93,
   "id": "32bc1174",
   "metadata": {},
   "outputs": [],
   "source": [
    "#general libraries\n",
    "import time\n",
    "import numpy as np\n",
    "import pandas as pd\n",
    "from tqdm import tqdm\n",
    "\n",
    "#scikit libraries\n",
    "from sklearn import datasets\n",
    "from sklearn.datasets import load_diabetes\n",
    "from sklearn.model_selection import train_test_split\n",
    "from sklearn.preprocessing import StandardScaler\n",
    "from sklearn.preprocessing import MinMaxScaler\n",
    "from sklearn.decomposition import PCA\n",
    "from sklearn.metrics import confusion_matrix\n",
    "from sklearn.metrics import accuracy_score\n",
    "from sklearn import svm\n",
    "from sklearn.metrics import accuracy_score, precision_score, recall_score, f1_score\n",
    "from sklearn.decomposition import PCA\n",
    "from sklearn import decomposition\n",
    "import matplotlib.pyplot as plt\n",
    "\n",
    "\n",
    "#qiskit libraries\n",
    "from qiskit import QuantumCircuit\n",
    "from qiskit import Aer\n",
    "from qiskit.primitives import Sampler\n",
    "from qiskit import execute\n",
    "from qiskit import transpile, assemble\n",
    "from azure.quantum import Workspace\n",
    "from azure.quantum.qiskit import AzureQuantumProvider\n",
    "#qiskit circuit libraries\n",
    "from qiskit.circuit.library import ZZFeatureMap,ZFeatureMap,PauliFeatureMap\n",
    "from qiskit.circuit.library import RealAmplitudes\n",
    "\n",
    "#qiskit optimizer libraries\n",
    "from qiskit.algorithms.optimizers import SPSA,COBYLA\n",
    "\n",
    "#qiskit algorithms\n",
    "from qiskit_machine_learning.algorithms import VQC,QSVC\n",
    "from qiskit_machine_learning.kernels import QuantumKernel\n",
    "from qiskit_machine_learning.neural_networks import EstimatorQNN\n",
    "from qiskit_machine_learning.algorithms import NeuralNetworkClassifier, PegasosQSVC\n",
    "from qiskit_machine_learning.exceptions import QiskitMachineLearningError\n",
    "from qiskit.utils import algorithm_globals\n",
    "\n",
    "#qiskit azure libraries\n",
    "from azure.quantum import Workspace\n",
    "from azure.quantum.qiskit import AzureQuantumProvider"
   ]
  },
  {
   "cell_type": "code",
   "execution_count": 94,
   "id": "7ea794b1",
   "metadata": {},
   "outputs": [],
   "source": [
    "# Load the iris dataset\n",
    "iris = datasets.load_iris()\n",
    "X = iris.data\n",
    "y = iris.target\n",
    "pca = decomposition.PCA(n_components=2)\n",
    "pca.fit(X)\n",
    "X = pca.transform(X)\n",
    "\n",
    "# Preprocess the data\n",
    "scaler = MinMaxScaler()\n",
    "X = scaler.fit_transform(X)\n",
    "\n",
    "# Split the dataset into training and test sets\n",
    "X_train, X_test, y_train, y_test = train_test_split(X, y, test_size=0.2, random_state=42)\n"
   ]
  },
  {
   "cell_type": "code",
   "execution_count": 95,
   "id": "89b8e94e",
   "metadata": {},
   "outputs": [
    {
     "name": "stdout",
     "output_type": "stream",
     "text": [
      "2\n"
     ]
    }
   ],
   "source": [
    "N = X.shape[1]\n",
    "print(N)"
   ]
  },
  {
   "cell_type": "code",
   "execution_count": 96,
   "id": "93bdf366",
   "metadata": {},
   "outputs": [
    {
     "data": {
      "image/png": "[encoded data removed]",
      "text/plain": [
       "<Figure size 1290.63x200.667 with 1 Axes>"
      ]
     },
     "execution_count": 96,
     "metadata": {},
     "output_type": "execute_result"
    }
   ],
   "source": [
    "# Define the quantum feature map\n",
    "feature_map = ZZFeatureMap(feature_dimension=N, reps=2, entanglement=\"linear\")\n",
    "feature_map.decompose().draw(output=\"mpl\", fold=20)\n",
    "\n"
   ]
  },
  {
   "cell_type": "code",
   "execution_count": 97,
   "id": "3d99b7ed",
   "metadata": {},
   "outputs": [],
   "source": [
    "\n",
    "qkernel = QuantumKernel(feature_map=feature_map, quantum_instance=Aer.get_backend('qasm_simulator'))"
   ]
  },
  {
   "cell_type": "code",
   "execution_count": 98,
   "id": "ff39d9a1",
   "metadata": {},
   "outputs": [],
   "source": [
    "# SVM\n",
    "svm = svm.SVC(kernel='linear')\n",
    "svm.fit(X_train, y_train)\n",
    "svm_pred = svm.predict(X_test)"
   ]
  },
  {
   "cell_type": "code",
   "execution_count": 99,
   "id": "3376f7ed",
   "metadata": {},
   "outputs": [],
   "source": [
    "svm_accuracy = accuracy_score(y_test, svm_pred)\n",
    "svm_precision = precision_score(y_test, svm_pred, average='macro')\n",
    "svm_recall = recall_score(y_test, svm_pred, average='macro')\n",
    "svm_f1 = f1_score(y_test, svm_pred, average='macro')"
   ]
  },
  {
   "cell_type": "code",
   "execution_count": 100,
   "id": "a95954a2",
   "metadata": {},
   "outputs": [
    {
     "name": "stdout",
     "output_type": "stream",
     "text": [
      "SVM Accuracy: 0.9666666666666667\n",
      "SVM Precision: 0.9666666666666667\n",
      "SVM Recall: 0.9696969696969697\n",
      "SVM F1 Score: 0.9665831244778613\n"
     ]
    }
   ],
   "source": [
    "# Print the metrics for both models\n",
    "print(\"SVM Accuracy:\", svm_accuracy)\n",
    "print(\"SVM Precision:\", svm_precision)\n",
    "print(\"SVM Recall:\", svm_recall)\n",
    "print(\"SVM F1 Score:\", svm_f1)"
   ]
  },
  {
   "cell_type": "code",
   "execution_count": 101,
   "id": "bad03122",
   "metadata": {},
   "outputs": [
    {
     "name": "stdout",
     "output_type": "stream",
     "text": [
      "<qiskit_machine_learning.kernels.quantum_kernel.QuantumKernel object at 0x0000029FE380A2F0>\n"
     ]
    }
   ],
   "source": [
    "# Print the quantum kernel circuit\n",
    "print(qkernel)"
   ]
  },
  {
   "cell_type": "code",
   "execution_count": 102,
   "id": "35683ffb",
   "metadata": {},
   "outputs": [
    {
     "name": "stdout",
     "output_type": "stream",
     "text": [
      "QSVC(C=1.0, break_ties=False, cache_size=200, class_weight=None, coef0=0.0,\n",
      "     decision_function_shape='ovr', degree=3, gamma='scale', max_iter=-1,\n",
      "     probability=False,\n",
      "     quantum_kernel=<qiskit_machine_learning.kernels.quantum_kernel.QuantumKernel object at 0x0000029FE380A2F0>,\n",
      "     random_state=None, shrinking=True, tol=0.001, verbose=False)\n"
     ]
    }
   ],
   "source": [
    "# Create the QSVC model\n",
    "qsvm = QSVC(quantum_kernel=qkernel)\n",
    "print(qsvm)"
   ]
  },
  {
   "cell_type": "code",
   "execution_count": 103,
   "id": "acfe7f52",
   "metadata": {},
   "outputs": [
    {
     "name": "stderr",
     "output_type": "stream",
     "text": [
      "Training Progress: 100%|██████████| 10/10 [13:39<00:00, 81.90s/it]\n"
     ]
    }
   ],
   "source": [
    "# Train the model\n",
    "start = time.time()\n",
    "epochs = 10\n",
    "for _ in tqdm(range(epochs), desc=\"Training Progress\"):\n",
    "    qsvm.fit(X_train, y_train)\n",
    "elapsed = time.time() - start\n",
    "\n"
   ]
  },
  {
   "cell_type": "code",
   "execution_count": 104,
   "id": "33aa823e",
   "metadata": {},
   "outputs": [],
   "source": [
    "# Predict labels for the test set\n",
    "y_pred = qsvm.predict(X_test)\n",
    "cm = confusion_matrix(y_test, y_pred)\n",
    "qsvm_accuracy = np.sum(y_pred == y_test) / len(y_test)\n",
    "qsvm_f1 = f1_score(y_test, y_pred, average='weighted')\n",
    "qsvm_precision = precision_score(y_test, y_pred, average='weighted')\n",
    "qsvm_recall = recall_score(y_test, y_pred, average='weighted')"
   ]
  },
  {
   "cell_type": "code",
   "execution_count": 105,
   "id": "9c6a712c",
   "metadata": {},
   "outputs": [
    {
     "name": "stdout",
     "output_type": "stream",
     "text": [
      "Accuracy: 0.8666666666666667\n",
      "F1-score: 0.8578754578754579\n",
      "Precision: 0.9022222222222223\n",
      "Recall: 0.8666666666666667\n"
     ]
    }
   ],
   "source": [
    "# Calculate accuracy\n",
    "print(\"Accuracy:\", qsvm_accuracy)\n",
    "print(\"F1-score:\", qsvm_f1)\n",
    "print(\"Precision:\", qsvm_precision)\n",
    "print(\"Recall:\", qsvm_recall)"
   ]
  },
  {
   "cell_type": "code",
   "execution_count": 106,
   "id": "3c981a0b",
   "metadata": {},
   "outputs": [
    {
     "name": "stdout",
     "output_type": "stream",
     "text": [
      "Confusion Matrix: [[10  0  0]\n",
      " [ 0  5  4]\n",
      " [ 0  0 11]]\n"
     ]
    }
   ],
   "source": [
    "print(\"Confusion Matrix:\",cm)"
   ]
  },
  {
   "cell_type": "code",
   "execution_count": 107,
   "id": "5736b1a2",
   "metadata": {},
   "outputs": [
    {
     "data": {
      "image/png": "[encoded data removed]",
      "text/plain": [
       "<Figure size 640x480 with 1 Axes>"
      ]
     },
     "metadata": {},
     "output_type": "display_data"
    }
   ],
   "source": [
    "# Bar chart\n",
    "labels = ['Accuracy', 'Precision', 'Recall', 'F1 Score']\n",
    "svm_scores = [svm_accuracy, svm_precision, svm_recall, svm_f1]\n",
    "qsvm_scores = [qsvm_accuracy, qsvm_precision, qsvm_recall, qsvm_f1]\n",
    "\n",
    "x = np.arange(len(labels))\n",
    "width = 0.35\n",
    "\n",
    "fig, ax = plt.subplots()\n",
    "rects1 = ax.bar(x - width/2, svm_scores, width, label='SVM')\n",
    "rects2 = ax.bar(x + width/2, qsvm_scores, width, label='QSVM')\n",
    "\n",
    "ax.set_ylabel('Scores')\n",
    "ax.set_title('Comparison of Metrics: SVM vs QSVM')\n",
    "ax.set_xticks(x)\n",
    "ax.set_xticklabels(labels)\n",
    "ax.legend()\n",
    "\n",
    "ax.bar_label(rects1, padding=3)\n",
    "ax.bar_label(rects2, padding=3)\n",
    "\n",
    "fig.tight_layout()\n",
    "\n",
    "plt.show()"
   ]
  },
  {
   "cell_type": "code",
   "execution_count": null,
   "id": "9191df37",
   "metadata": {},
   "outputs": [],
   "source": []
  }
 ],
 "metadata": {
  "kernelspec": {
   "display_name": "Python 3 (ipykernel)",
   "language": "python",
   "name": "python3"
  },
  "language_info": {
   "codemirror_mode": {
    "name": "ipython",
    "version": 3
   },
   "file_extension": ".py",
   "mimetype": "text/x-python",
   "name": "python",
   "nbconvert_exporter": "python",
   "pygments_lexer": "ipython3",
   "version": "3.10.9"
  }
 },
 "nbformat": 4,
 "nbformat_minor": 5
}
